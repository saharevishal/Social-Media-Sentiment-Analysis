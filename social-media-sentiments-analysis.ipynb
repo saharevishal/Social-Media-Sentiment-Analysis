{
 "cells": [
  {
   "cell_type": "code",
   "execution_count": null,
   "metadata": {
    "execution": {
     "iopub.execute_input": "2024-09-09T07:46:19.739058Z",
     "iopub.status.busy": "2024-09-09T07:46:19.738488Z",
     "iopub.status.idle": "2024-09-09T07:46:19.745926Z",
     "shell.execute_reply": "2024-09-09T07:46:19.744627Z",
     "shell.execute_reply.started": "2024-09-09T07:46:19.739008Z"
    }
   },
   "outputs": [],
   "source": [
    "# Importing necessary libraries\n",
    "import pandas as pd\n",
    "import numpy as np\n",
    "import matplotlib.pyplot as plt\n",
    "import seaborn as sns"
   ]
  },
  {
   "cell_type": "code",
   "execution_count": null,
   "metadata": {
    "execution": {
     "iopub.execute_input": "2024-09-09T07:46:33.291145Z",
     "iopub.status.busy": "2024-09-09T07:46:33.290651Z",
     "iopub.status.idle": "2024-09-09T07:46:33.333853Z",
     "shell.execute_reply": "2024-09-09T07:46:33.332572Z",
     "shell.execute_reply.started": "2024-09-09T07:46:33.291097Z"
    }
   },
   "outputs": [],
   "source": [
    "# Loading the dataset\n",
    "df = pd.read_csv('/kaggle/input/social.csv')\n",
    "\n",
    "# Displaying the first few rows of the dataframe\n",
    "df.head()"
   ]
  },
  {
   "cell_type": "code",
   "execution_count": null,
   "metadata": {
    "execution": {
     "iopub.execute_input": "2024-09-09T07:46:41.452339Z",
     "iopub.status.busy": "2024-09-09T07:46:41.451819Z",
     "iopub.status.idle": "2024-09-09T07:46:41.462004Z",
     "shell.execute_reply": "2024-09-09T07:46:41.460587Z",
     "shell.execute_reply.started": "2024-09-09T07:46:41.452291Z"
    }
   },
   "outputs": [],
   "source": [
    "# Dropping unnecessary columns\n",
    "df.drop(columns='Unnamed: 0.1', inplace=True)\n",
    "df.rename(columns={'Unnamed: 0': 'Id'}, inplace=True)"
   ]
  },
  {
   "cell_type": "code",
   "execution_count": null,
   "metadata": {
    "execution": {
     "iopub.execute_input": "2024-09-09T07:46:48.343439Z",
     "iopub.status.busy": "2024-09-09T07:46:48.342954Z",
     "iopub.status.idle": "2024-09-09T07:46:48.356631Z",
     "shell.execute_reply": "2024-09-09T07:46:48.355131Z",
     "shell.execute_reply.started": "2024-09-09T07:46:48.343392Z"
    }
   },
   "outputs": [],
   "source": [
    "# Checking for missing values\n",
    "df.isnull().sum()\n",
    "\n",
    "# Displaying data types of columns\n",
    "df.dtypes"
   ]
  },
  {
   "cell_type": "code",
   "execution_count": null,
   "metadata": {
    "execution": {
     "iopub.execute_input": "2024-09-09T07:46:57.290261Z",
     "iopub.status.busy": "2024-09-09T07:46:57.289749Z",
     "iopub.status.idle": "2024-09-09T07:46:57.305601Z",
     "shell.execute_reply": "2024-09-09T07:46:57.304392Z",
     "shell.execute_reply.started": "2024-09-09T07:46:57.290201Z"
    }
   },
   "outputs": [],
   "source": [
    "# Converting Timestamp to datetime format\n",
    "df['Timestamp'] = pd.to_datetime(df['Timestamp'])\n",
    "df['Day'] = df['Timestamp'].dt.day\n",
    "df['Month'] = df['Timestamp'].dt.month\n",
    "df['Year'] = df['Timestamp'].dt.year"
   ]
  },
  {
   "cell_type": "code",
   "execution_count": null,
   "metadata": {
    "execution": {
     "iopub.execute_input": "2024-09-09T07:47:04.552275Z",
     "iopub.status.busy": "2024-09-09T07:47:04.551777Z",
     "iopub.status.idle": "2024-09-09T07:47:04.567598Z",
     "shell.execute_reply": "2024-09-09T07:47:04.566179Z",
     "shell.execute_reply.started": "2024-09-09T07:47:04.55223Z"
    }
   },
   "outputs": [],
   "source": [
    "# Stripping leading and trailing spaces from string columns\n",
    "df['Text'] = df['Text'].str.strip()\n",
    "df['Sentiment'] = df['Sentiment'].str.strip()\n",
    "df['User'] = df['User'].str.strip()\n",
    "df['Platform'] = df['Platform'].str.strip()\n",
    "df['Hashtags'] = df['Hashtags'].str.strip()\n",
    "df['Country'] = df['Country'].str.strip()"
   ]
  },
  {
   "cell_type": "code",
   "execution_count": null,
   "metadata": {
    "execution": {
     "iopub.execute_input": "2024-09-09T07:47:13.290175Z",
     "iopub.status.busy": "2024-09-09T07:47:13.289697Z",
     "iopub.status.idle": "2024-09-09T07:47:13.560653Z",
     "shell.execute_reply": "2024-09-09T07:47:13.559388Z",
     "shell.execute_reply.started": "2024-09-09T07:47:13.290131Z"
    }
   },
   "outputs": [],
   "source": [
    "# Exploratory Data Analysis (EDA)\n",
    "\n",
    "# Sentiment distribution\n",
    "df['Sentiment'].value_counts().nlargest(10).plot(kind='bar')\n",
    "plt.title('Top 10 Sentiments based on Text')\n",
    "plt.xlabel('Sentiment')\n",
    "plt.ylabel('Count')\n",
    "plt.show()"
   ]
  },
  {
   "cell_type": "code",
   "execution_count": null,
   "metadata": {
    "execution": {
     "iopub.execute_input": "2024-09-09T07:47:21.858093Z",
     "iopub.status.busy": "2024-09-09T07:47:21.857574Z",
     "iopub.status.idle": "2024-09-09T07:47:22.054103Z",
     "shell.execute_reply": "2024-09-09T07:47:22.052856Z",
     "shell.execute_reply.started": "2024-09-09T07:47:21.858046Z"
    }
   },
   "outputs": [],
   "source": [
    "# Platform distribution\n",
    "df['Platform'].value_counts().plot(kind='pie', autopct='%1.1f%%')\n",
    "plt.title('Percentages of Platforms')\n",
    "plt.legend()\n",
    "plt.show()"
   ]
  },
  {
   "cell_type": "code",
   "execution_count": null,
   "metadata": {
    "execution": {
     "iopub.execute_input": "2024-09-09T07:47:30.167302Z",
     "iopub.status.busy": "2024-09-09T07:47:30.166809Z",
     "iopub.status.idle": "2024-09-09T07:47:30.497655Z",
     "shell.execute_reply": "2024-09-09T07:47:30.496263Z",
     "shell.execute_reply.started": "2024-09-09T07:47:30.167255Z"
    }
   },
   "outputs": [],
   "source": [
    "# Country distribution\n",
    "df['Country'].value_counts().nlargest(10).plot(kind='bar')\n",
    "plt.title('Top 10 Countries')\n",
    "plt.xlabel('Country')\n",
    "plt.ylabel('Count')\n",
    "plt.show()"
   ]
  },
  {
   "cell_type": "code",
   "execution_count": null,
   "metadata": {
    "execution": {
     "iopub.execute_input": "2024-09-09T07:47:37.755445Z",
     "iopub.status.busy": "2024-09-09T07:47:37.754985Z",
     "iopub.status.idle": "2024-09-09T07:47:38.126683Z",
     "shell.execute_reply": "2024-09-09T07:47:38.125294Z",
     "shell.execute_reply.started": "2024-09-09T07:47:37.755401Z"
    }
   },
   "outputs": [],
   "source": [
    "# Hashtags distribution\n",
    "df['Hashtags'].value_counts().nlargest(10).plot(kind='bar')\n",
    "plt.title('Top 10 Hashtags')\n",
    "plt.xlabel('Hashtags')\n",
    "plt.ylabel('Count')\n",
    "plt.show()"
   ]
  },
  {
   "cell_type": "code",
   "execution_count": null,
   "metadata": {
    "execution": {
     "iopub.execute_input": "2024-09-09T07:47:46.592422Z",
     "iopub.status.busy": "2024-09-09T07:47:46.591924Z",
     "iopub.status.idle": "2024-09-09T07:47:46.637615Z",
     "shell.execute_reply": "2024-09-09T07:47:46.63638Z",
     "shell.execute_reply.started": "2024-09-09T07:47:46.592374Z"
    }
   },
   "outputs": [],
   "source": [
    "# Descriptive statistics\n",
    "df.describe()\n"
   ]
  },
  {
   "cell_type": "code",
   "execution_count": null,
   "metadata": {
    "execution": {
     "iopub.execute_input": "2024-09-09T07:47:53.982736Z",
     "iopub.status.busy": "2024-09-09T07:47:53.982231Z",
     "iopub.status.idle": "2024-09-09T07:47:53.995507Z",
     "shell.execute_reply": "2024-09-09T07:47:53.993991Z",
     "shell.execute_reply.started": "2024-09-09T07:47:53.982689Z"
    }
   },
   "outputs": [],
   "source": [
    "# Analyzing numerical columns\n",
    "numerical_columns = df[['Day', 'Month', 'Year', 'Likes', 'Retweets']]\n",
    "for col in numerical_columns.columns:\n",
    "    print(f\"Minimum {col}: {df[col].min()} | Maximum {col}: {df[col].max()}\")"
   ]
  },
  {
   "cell_type": "code",
   "execution_count": null,
   "metadata": {
    "execution": {
     "iopub.execute_input": "2024-09-09T07:48:00.075382Z",
     "iopub.status.busy": "2024-09-09T07:48:00.073832Z",
     "iopub.status.idle": "2024-09-09T07:48:00.46896Z",
     "shell.execute_reply": "2024-09-09T07:48:00.467518Z",
     "shell.execute_reply.started": "2024-09-09T07:48:00.075309Z"
    }
   },
   "outputs": [],
   "source": [
    "# Top 10 hashtags by retweets\n",
    "H_R = df.groupby('Hashtags')['Retweets'].max().nlargest(10).sort_values(ascending=False).plot(kind='bar')\n",
    "plt.title('Top 10 Hashtags Retweeted')\n",
    "plt.xlabel('Hashtags')\n",
    "plt.ylabel('Count')\n",
    "plt.show()"
   ]
  },
  {
   "cell_type": "code",
   "execution_count": null,
   "metadata": {
    "execution": {
     "iopub.execute_input": "2024-09-09T07:48:08.271027Z",
     "iopub.status.busy": "2024-09-09T07:48:08.270528Z",
     "iopub.status.idle": "2024-09-09T07:48:08.5116Z",
     "shell.execute_reply": "2024-09-09T07:48:08.510191Z",
     "shell.execute_reply.started": "2024-09-09T07:48:08.270972Z"
    }
   },
   "outputs": [],
   "source": [
    "# Platform with the most likes\n",
    "top_likes_platform = df.groupby('Platform')['Likes'].sum().nlargest(10)\n",
    "top_likes_platform.plot(kind='bar')\n",
    "plt.title('Top Platforms by Total Likes')\n",
    "plt.xlabel('Platform')\n",
    "plt.ylabel('Total Likes')\n",
    "plt.show()"
   ]
  },
  {
   "cell_type": "code",
   "execution_count": null,
   "metadata": {
    "execution": {
     "iopub.execute_input": "2024-09-09T07:48:19.870556Z",
     "iopub.status.busy": "2024-09-09T07:48:19.870054Z",
     "iopub.status.idle": "2024-09-09T07:48:20.161112Z",
     "shell.execute_reply": "2024-09-09T07:48:20.159702Z",
     "shell.execute_reply.started": "2024-09-09T07:48:19.870509Z"
    }
   },
   "outputs": [],
   "source": [
    "# Country with the most likes\n",
    "top_country_likes = df.groupby('Country')['Likes'].sum().nlargest(10)\n",
    "top_country_likes.plot(kind='bar')\n",
    "plt.title('Top Countries by Likes')\n",
    "plt.xlabel('Country')\n",
    "plt.ylabel('Count')\n",
    "plt.show()\n"
   ]
  },
  {
   "cell_type": "code",
   "execution_count": null,
   "metadata": {
    "execution": {
     "iopub.execute_input": "2024-09-09T07:48:30.074112Z",
     "iopub.status.busy": "2024-09-09T07:48:30.073645Z",
     "iopub.status.idle": "2024-09-09T07:48:30.082038Z",
     "shell.execute_reply": "2024-09-09T07:48:30.080658Z",
     "shell.execute_reply.started": "2024-09-09T07:48:30.074067Z"
    }
   },
   "outputs": [],
   "source": [
    "# Segmentation by platform\n",
    "\n",
    "# Facebook\n",
    "Facebook = df[df['Platform'] == 'Facebook']"
   ]
  },
  {
   "cell_type": "code",
   "execution_count": null,
   "metadata": {
    "execution": {
     "iopub.execute_input": "2024-09-09T07:48:37.542313Z",
     "iopub.status.busy": "2024-09-09T07:48:37.541847Z",
     "iopub.status.idle": "2024-09-09T07:48:37.866727Z",
     "shell.execute_reply": "2024-09-09T07:48:37.865535Z",
     "shell.execute_reply.started": "2024-09-09T07:48:37.542268Z"
    }
   },
   "outputs": [],
   "source": [
    "# Top 10 hashtags retweeted on Facebook\n",
    "H_R_f = Facebook.groupby('Hashtags')['Retweets'].max().nlargest(10).sort_values(ascending=False)\n",
    "H_R_f.plot(kind='bar')\n",
    "plt.title('Top 10 Hashtags Retweeted on Facebook')\n",
    "plt.xlabel('Hashtags')\n",
    "plt.ylabel('Count')\n",
    "plt.show()"
   ]
  },
  {
   "cell_type": "code",
   "execution_count": null,
   "metadata": {
    "execution": {
     "iopub.execute_input": "2024-09-09T07:48:46.476712Z",
     "iopub.status.busy": "2024-09-09T07:48:46.475394Z",
     "iopub.status.idle": "2024-09-09T07:48:46.863227Z",
     "shell.execute_reply": "2024-09-09T07:48:46.861671Z",
     "shell.execute_reply.started": "2024-09-09T07:48:46.476641Z"
    }
   },
   "outputs": [],
   "source": [
    "# Top users by likes on Facebook\n",
    "top_likes_platform_F = Facebook.groupby('User')['Likes'].sum().nlargest(10)\n",
    "top_likes_platform_F.plot(kind='bar')\n",
    "plt.title('Top Users by Total Likes on Facebook')\n",
    "plt.xlabel('User')\n",
    "plt.ylabel('Total Likes')\n",
    "plt.show()"
   ]
  },
  {
   "cell_type": "code",
   "execution_count": null,
   "metadata": {
    "execution": {
     "iopub.execute_input": "2024-09-09T07:48:53.101844Z",
     "iopub.status.busy": "2024-09-09T07:48:53.100441Z",
     "iopub.status.idle": "2024-09-09T07:48:53.503432Z",
     "shell.execute_reply": "2024-09-09T07:48:53.502161Z",
     "shell.execute_reply.started": "2024-09-09T07:48:53.101774Z"
    }
   },
   "outputs": [],
   "source": [
    "# Cumulative likes over years on Facebook\n",
    "f = Facebook.groupby('Year')['Likes'].sum().reset_index()\n",
    "plt.figure(figsize=(10, 6))\n",
    "sns.lineplot(data=f, x='Year', y='Likes', marker='o')\n",
    "for index, value in f.iterrows():\n",
    "    plt.text(value['Year'], value['Likes'], str(value['Likes']), ha='left', va='bottom')\n",
    "plt.title('Cumulative Likes Over Years on Facebook')\n",
    "plt.xlabel('Year')\n",
    "plt.ylabel('Cumulative Likes')\n",
    "plt.show()"
   ]
  },
  {
   "cell_type": "code",
   "execution_count": null,
   "metadata": {
    "execution": {
     "iopub.execute_input": "2024-09-09T07:49:05.976513Z",
     "iopub.status.busy": "2024-09-09T07:49:05.975829Z",
     "iopub.status.idle": "2024-09-09T07:49:06.366366Z",
     "shell.execute_reply": "2024-09-09T07:49:06.364802Z",
     "shell.execute_reply.started": "2024-09-09T07:49:05.976458Z"
    }
   },
   "outputs": [],
   "source": [
    "# Cumulative retweets over years on Facebook\n",
    "f = Facebook.groupby('Year')['Retweets'].sum().reset_index()\n",
    "plt.figure(figsize=(10, 6))\n",
    "sns.lineplot(data=f, x='Year', y='Retweets', marker='o')\n",
    "for index, value in f.iterrows():\n",
    "    plt.text(value['Year'], value['Retweets'], str(value['Retweets']), ha='left', va='bottom')\n",
    "plt.title('Cumulative Retweets Over Years on Facebook')\n",
    "plt.xlabel('Year')\n",
    "plt.ylabel('Cumulative Retweets')\n",
    "plt.show()"
   ]
  },
  {
   "cell_type": "code",
   "execution_count": null,
   "metadata": {
    "execution": {
     "iopub.execute_input": "2024-09-09T07:49:13.613873Z",
     "iopub.status.busy": "2024-09-09T07:49:13.613065Z",
     "iopub.status.idle": "2024-09-09T07:49:13.621862Z",
     "shell.execute_reply": "2024-09-09T07:49:13.620666Z",
     "shell.execute_reply.started": "2024-09-09T07:49:13.613824Z"
    }
   },
   "outputs": [],
   "source": [
    "# Twitter\n",
    "Twitter = df[df['Platform'] == 'Twitter']\n"
   ]
  },
  {
   "cell_type": "code",
   "execution_count": null,
   "metadata": {
    "execution": {
     "iopub.execute_input": "2024-09-09T07:49:22.537547Z",
     "iopub.status.busy": "2024-09-09T07:49:22.537046Z",
     "iopub.status.idle": "2024-09-09T07:49:22.936859Z",
     "shell.execute_reply": "2024-09-09T07:49:22.935475Z",
     "shell.execute_reply.started": "2024-09-09T07:49:22.5375Z"
    }
   },
   "outputs": [],
   "source": [
    "# Top 10 hashtags retweeted on Twitter\n",
    "H_R_t = Twitter.groupby('Hashtags')['Retweets'].max().nlargest(10).sort_values(ascending=False)\n",
    "H_R_t.plot(kind='bar')\n",
    "plt.title('Top 10 Hashtags Retweeted on Twitter')\n",
    "plt.xlabel('Hashtags')\n",
    "plt.ylabel('Count')\n",
    "plt.show()\n"
   ]
  },
  {
   "cell_type": "code",
   "execution_count": null,
   "metadata": {
    "execution": {
     "iopub.execute_input": "2024-09-09T07:49:29.830231Z",
     "iopub.status.busy": "2024-09-09T07:49:29.829649Z",
     "iopub.status.idle": "2024-09-09T07:49:30.135688Z",
     "shell.execute_reply": "2024-09-09T07:49:30.134335Z",
     "shell.execute_reply.started": "2024-09-09T07:49:29.830179Z"
    }
   },
   "outputs": [],
   "source": [
    "# Top users by likes on Twitter\n",
    "top_likes_platform_t = Twitter.groupby('User')['Likes'].sum().nlargest(10)\n",
    "top_likes_platform_t.plot(kind='bar')\n",
    "plt.title('Top Users by Total Likes on Twitter')\n",
    "plt.xlabel('User')\n",
    "plt.ylabel('Total Likes')\n",
    "plt.show()"
   ]
  },
  {
   "cell_type": "code",
   "execution_count": null,
   "metadata": {
    "execution": {
     "iopub.execute_input": "2024-09-09T07:49:39.347148Z",
     "iopub.status.busy": "2024-09-09T07:49:39.34671Z",
     "iopub.status.idle": "2024-09-09T07:49:39.730819Z",
     "shell.execute_reply": "2024-09-09T07:49:39.729501Z",
     "shell.execute_reply.started": "2024-09-09T07:49:39.347107Z"
    }
   },
   "outputs": [],
   "source": [
    "# Cumulative likes over years on Twitter\n",
    "f = Twitter.groupby('Year')['Likes'].sum().reset_index()\n",
    "plt.figure(figsize=(10, 6))\n",
    "sns.lineplot(data=f, x='Year', y='Likes', marker='o')\n",
    "for index, value in f.iterrows():\n",
    "    plt.text(value['Year'], value['Likes'], str(value['Likes']), ha='left', va='bottom')\n",
    "plt.title('Cumulative Likes Over Years on Twitter')\n",
    "plt.xlabel('Year')\n",
    "plt.ylabel('Cumulative Likes')\n",
    "plt.show()"
   ]
  },
  {
   "cell_type": "code",
   "execution_count": null,
   "metadata": {
    "execution": {
     "iopub.execute_input": "2024-09-09T07:49:47.132807Z",
     "iopub.status.busy": "2024-09-09T07:49:47.131443Z",
     "iopub.status.idle": "2024-09-09T07:49:47.525182Z",
     "shell.execute_reply": "2024-09-09T07:49:47.52378Z",
     "shell.execute_reply.started": "2024-09-09T07:49:47.13272Z"
    }
   },
   "outputs": [],
   "source": [
    "# Cumulative retweets over years on Twitter\n",
    "f = Twitter.groupby('Year')['Retweets'].sum().reset_index()\n",
    "plt.figure(figsize=(10, 6))\n",
    "sns.lineplot(data=f, x='Year', y='Retweets', marker='o')\n",
    "for index, value in f.iterrows():\n",
    "    plt.text(value['Year'], value['Retweets'], str(value['Retweets']), ha='left', va='bottom')\n",
    "plt.title('Cumulative Retweets Over Years on Twitter')\n",
    "plt.xlabel('Year')\n",
    "plt.ylabel('Cumulative Retweets')\n",
    "plt.show()"
   ]
  },
  {
   "cell_type": "code",
   "execution_count": null,
   "metadata": {
    "execution": {
     "iopub.execute_input": "2024-09-09T07:49:58.097946Z",
     "iopub.status.busy": "2024-09-09T07:49:58.097499Z",
     "iopub.status.idle": "2024-09-09T07:49:58.105643Z",
     "shell.execute_reply": "2024-09-09T07:49:58.104265Z",
     "shell.execute_reply.started": "2024-09-09T07:49:58.097905Z"
    }
   },
   "outputs": [],
   "source": [
    "# Instagram\n",
    "Instagram = df[df['Platform'] == 'Instagram']\n"
   ]
  },
  {
   "cell_type": "code",
   "execution_count": null,
   "metadata": {
    "execution": {
     "iopub.execute_input": "2024-09-09T07:50:05.850597Z",
     "iopub.status.busy": "2024-09-09T07:50:05.850148Z",
     "iopub.status.idle": "2024-09-09T07:50:06.516642Z",
     "shell.execute_reply": "2024-09-09T07:50:06.515116Z",
     "shell.execute_reply.started": "2024-09-09T07:50:05.850542Z"
    }
   },
   "outputs": [],
   "source": [
    "# Top 15 hashtags retweeted on Instagram\n",
    "H_R_i = Instagram.groupby('Hashtags')['Retweets'].max().nlargest(15).sort_values(ascending=False)\n",
    "H_R_i.plot(kind='bar')\n",
    "plt.title('Top 15 Hashtags Retweeted on Instagram')\n",
    "plt.xlabel('Hashtags')\n",
    "plt.ylabel('Count')\n",
    "plt.show()"
   ]
  },
  {
   "cell_type": "code",
   "execution_count": null,
   "metadata": {
    "execution": {
     "iopub.execute_input": "2024-09-09T07:50:13.912143Z",
     "iopub.status.busy": "2024-09-09T07:50:13.911715Z",
     "iopub.status.idle": "2024-09-09T07:50:14.272294Z",
     "shell.execute_reply": "2024-09-09T07:50:14.27093Z",
     "shell.execute_reply.started": "2024-09-09T07:50:13.912103Z"
    }
   },
   "outputs": [],
   "source": [
    "# Top users by likes on Instagram\n",
    "top_likes_platform_i = Instagram.groupby('User')['Likes'].sum().nlargest(10)\n",
    "top_likes_platform_i.plot(kind='bar')\n",
    "plt.title('Top Users by Total Likes on Instagram')\n",
    "plt.xlabel('User')\n",
    "plt.ylabel('Total Likes')\n",
    "plt.show()"
   ]
  },
  {
   "cell_type": "code",
   "execution_count": null,
   "metadata": {
    "execution": {
     "iopub.execute_input": "2024-09-09T07:50:20.84766Z",
     "iopub.status.busy": "2024-09-09T07:50:20.847029Z",
     "iopub.status.idle": "2024-09-09T07:50:21.216904Z",
     "shell.execute_reply": "2024-09-09T07:50:21.215522Z",
     "shell.execute_reply.started": "2024-09-09T07:50:20.847597Z"
    }
   },
   "outputs": [],
   "source": [
    "# Cumulative likes over years on Instagram\n",
    "f = Instagram.groupby('Year')['Likes'].sum().reset_index()\n",
    "plt.figure(figsize=(10, 6))\n",
    "sns.lineplot(data=f, x='Year', y='Likes', marker='o')\n",
    "for index, value in f.iterrows():\n",
    "    plt.text(value['Year'], value['Likes'], str(value['Likes']), ha='left', va='bottom')\n",
    "plt.title('Cumulative Likes Over Years on Instagram')\n",
    "plt.xlabel('Year')\n",
    "plt.ylabel('Cumulative Likes')\n",
    "plt.show()\n"
   ]
  },
  {
   "cell_type": "code",
   "execution_count": null,
   "metadata": {
    "execution": {
     "iopub.execute_input": "2024-09-09T07:50:30.483438Z",
     "iopub.status.busy": "2024-09-09T07:50:30.482971Z",
     "iopub.status.idle": "2024-09-09T07:50:30.856075Z",
     "shell.execute_reply": "2024-09-09T07:50:30.854653Z",
     "shell.execute_reply.started": "2024-09-09T07:50:30.483395Z"
    }
   },
   "outputs": [],
   "source": [
    "# Cumulative retweets over years on Instagram\n",
    "f = Instagram.groupby('Year')['Retweets'].sum().reset_index()\n",
    "plt.figure(figsize=(10, 6))\n",
    "sns.lineplot(data=f, x='Year', y='Retweets', marker='o')\n",
    "for index, value in f.iterrows():\n",
    "    plt.text(value['Year'], value['Retweets'], str(value['Retweets']), ha='left', va='bottom')\n",
    "plt.title('Cumulative Retweets Over Years on Instagram')\n",
    "plt.xlabel('Year')\n",
    "plt.ylabel('Cumulative Retweets')\n",
    "plt.show()"
   ]
  },
  {
   "cell_type": "code",
   "execution_count": null,
   "metadata": {},
   "outputs": [],
   "source": []
  }
 ],
 "metadata": {
  "kaggle": {
   "accelerator": "none",
   "dataSources": [
    {
     "datasetId": 4245661,
     "sourceId": 7316566,
     "sourceType": "datasetVersion"
    }
   ],
   "dockerImageVersionId": 30761,
   "isGpuEnabled": false,
   "isInternetEnabled": false,
   "language": "python",
   "sourceType": "notebook"
  },
  "kernelspec": {
   "display_name": "Python 3 (ipykernel)",
   "language": "python",
   "name": "python3"
  },
  "language_info": {
   "codemirror_mode": {
    "name": "ipython",
    "version": 3
   },
   "file_extension": ".py",
   "mimetype": "text/x-python",
   "name": "python",
   "nbconvert_exporter": "python",
   "pygments_lexer": "ipython3",
   "version": "3.11.5"
  }
 },
 "nbformat": 4,
 "nbformat_minor": 4
}
